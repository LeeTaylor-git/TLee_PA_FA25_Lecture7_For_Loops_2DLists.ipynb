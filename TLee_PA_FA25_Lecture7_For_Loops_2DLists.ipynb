{
  "nbformat": 4,
  "nbformat_minor": 0,
  "metadata": {
    "colab": {
      "provenance": [],
      "include_colab_link": true
    },
    "kernelspec": {
      "name": "python3",
      "display_name": "Python 3"
    },
    "language_info": {
      "name": "python"
    }
  },
  "cells": [
    {
      "cell_type": "markdown",
      "metadata": {
        "id": "view-in-github",
        "colab_type": "text"
      },
      "source": [
        "<a href=\"https://colab.research.google.com/github/LeeTaylor-git/TLee_PA_FA25_Lecture7_For_Loops_2DLists.ipynb/blob/main/TLee_PA_FA25_Lecture7_For_Loops_2DLists.ipynb\" target=\"_parent\"><img src=\"https://colab.research.google.com/assets/colab-badge.svg\" alt=\"Open In Colab\"/></a>"
      ]
    },
    {
      "cell_type": "code",
      "source": [
        "# Run this code cell to prepare for this practice\n",
        "# Define lists\n",
        "list_of_colors = [\"red\", \"orange\", \"green\", \"red\", \"yellow\"]\n",
        "list_of_soup_flavors = [\"chicken noodle soup\", \"onion soup\", \"green pea soup\", \"chili beef soup\", \"vegetable soup\"]\n",
        "# Recall we wrote a function to draw cans and write soup names\n",
        "def draw_colored_can_and_write_name(can_color, soup_name):\n",
        "  print(\"I drew a \" + can_color + \" soup can\")\n",
        "  print(\"I wrote \\\"\" + soup_name + \"\\\" on the can\")"
      ],
      "metadata": {
        "id": "FfLpKalHOFPt"
      },
      "execution_count": 4,
      "outputs": []
    },
    {
      "cell_type": "markdown",
      "source": [
        "**Practice 1: Modify the following code snippet to remove all the \"red\" items in list_of_colors**\n",
        "\n",
        "\n",
        "```\n",
        "list_of_colors = [\"red\", \"orange\", \"green\", \"red\", \"yellow\", \"red\"]\n",
        "new_list = []\n",
        "\n",
        "for item in list_of_colors:\n",
        "  # put code here\n",
        "\n",
        "print(new_list)\n",
        "```\n",
        "\n"
      ],
      "metadata": {
        "id": "TvDiVtMkd2mU"
      }
    },
    {
      "cell_type": "code",
      "source": [
        "# My Modified code for Practice 1:\n",
        "list_of_colors = [\"red\", \"orange\", \"green\", \"red\", \"yellow\", \"red\"]\n",
        "new_list = []\n",
        "\n",
        "for item in list_of_colors:\n",
        "  if item != \"red\":\n",
        "    new_list.append(item)\n",
        "\n",
        "print(new_list)"
      ],
      "metadata": {
        "id": "rqs6fryCx_RE"
      },
      "execution_count": null,
      "outputs": []
    },
    {
      "cell_type": "code",
      "source": [
        "# We can do nested for loops to draw a can and write names for every pair of color and soup flavor\n",
        "for color in list_of_colors: # outer loop header\n",
        "  for flavor in list_of_soup_flavors: # inner loop header\n",
        "    draw_colored_can_and_write_name(color, flavor)\n",
        "  print()"
      ],
      "metadata": {
        "id": "nCJlQmHOi2jP"
      },
      "execution_count": null,
      "outputs": []
    },
    {
      "cell_type": "markdown",
      "source": [
        "**Practice 2: Modify the code snippet above to loop through the first three items in list_of_colors and the first two items in list_of_soup_flavors**\n",
        "\n",
        "**Hint: use index or item to loop through lists**"
      ],
      "metadata": {
        "id": "g2hDDp_9jw3r"
      }
    },
    {
      "cell_type": "code",
      "execution_count": null,
      "metadata": {
        "id": "Oh9wSlnFEDuy"
      },
      "outputs": [],
      "source": [
        "# Create a 3 * 5 matrix\n",
        "matrix_a = [[2, 4, 6, 8, 10], [3, 6, 9, 12, 15], [4, 8, 12, 16, 20]]"
      ]
    }
  ]
}